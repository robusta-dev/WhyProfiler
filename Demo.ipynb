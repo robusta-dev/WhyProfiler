{
 "cells": [
  {
   "cell_type": "code",
   "execution_count": null,
   "metadata": {
    "fixed": false,
    "previous_time": 0
   },
   "outputs": [],
   "source": [
    "import json\n",
    "import sys\n",
    "\n",
    "def generate_json():\n",
    "    l = []\n",
    "    for _ in range(1000000):\n",
    "        l.append({\"a\" : 101231238931.223432, \"b\" : \"test\", \"c\": [\"abc\"]})\n",
    "    return l\n",
    "\n",
    "print(\"This is a tech demo of Whyprofiler - a joint Robusta.dev and R2C.dev project\")\n",
    "print(\"Soon we will know which part of this code is slow, but how to fix it?\")\n",
    "print(\"Note that applying the fix takes time because it installs orjson with pip\")\n",
    "z=generate_json()\n",
    "print(\"Still.. running\", flush=True)\n",
    "sys.stdout.flush() # without this the print only appears at the end\n",
    "x=json.dumps(z)\n",
    "print(\"Done!\")\n",
    "# we delete these to free up memory\n",
    "del z\n",
    "del x\n",
    "\n",
    "# Want to automate your response to Kubernetes alerts and events using Python?\n",
    "# Try robusta.dev"
   ]
  }
 ],
 "metadata": {
  "kernelspec": {
   "display_name": "Python 3",
   "language": "python",
   "name": "python3"
  },
  "language_info": {
   "codemirror_mode": {
    "name": "ipython",
    "version": 3
   },
   "file_extension": ".py",
   "mimetype": "text/x-python",
   "name": "python",
   "nbconvert_exporter": "python",
   "pygments_lexer": "ipython3",
   "version": "3.8.8"
  }
 },
 "nbformat": 4,
 "nbformat_minor": 4
}
